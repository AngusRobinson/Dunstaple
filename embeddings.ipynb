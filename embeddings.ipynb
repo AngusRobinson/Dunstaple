{
 "cells": [
  {
   "cell_type": "code",
   "execution_count": null,
   "id": "051c28e6-9f43-4045-9da3-d3d93f61e306",
   "metadata": {},
   "outputs": [],
   "source": [
    "## Notation:\n",
    "A motif can be rendered as such: (length of first note, interval to second note, length of second note, interval to third note etc.)"
   ]
  }
 ],
 "metadata": {
  "kernelspec": {
   "display_name": "Python 3 (ipykernel)",
   "language": "python",
   "name": "python3"
  },
  "language_info": {
   "codemirror_mode": {
    "name": "ipython",
    "version": 3
   },
   "file_extension": ".py",
   "mimetype": "text/x-python",
   "name": "python",
   "nbconvert_exporter": "python",
   "pygments_lexer": "ipython3",
   "version": "3.8.18"
  }
 },
 "nbformat": 4,
 "nbformat_minor": 5
}
